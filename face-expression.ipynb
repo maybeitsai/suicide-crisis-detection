{
 "cells": [
  {
   "cell_type": "markdown",
   "id": "0cfb15be",
   "metadata": {},
   "source": [
    "# **Face Expression Classification for Suicide Crisis Detection**"
   ]
  },
  {
   "cell_type": "markdown",
   "id": "15388cab",
   "metadata": {},
   "source": [
    "## **Data Understanding**"
   ]
  },
  {
   "cell_type": "markdown",
   "id": "a8be6821",
   "metadata": {},
   "source": [
    "### 📊 Ringkasan Dataset\n",
    "\n",
    "Dataset ini berisi gambar ekspresi wajah yang digunakan untuk mengidentifikasi tanda-tanda krisis bunuh diri melalui analisis visual. Dataset terdiri dari dua kategori utama yang mengklasifikasikan kondisi mental seseorang berdasarkan ekspresi wajah mereka.\n",
    "\n",
    "### 📁 Struktur Dataset\n",
    "\n",
    "```\n",
    "data/1. DATA EKSPRESI WAJAH KRISI BUNUH DIRI/\n",
    "├── 1. KRISIS/          # Gambar ekspresi wajah yang menunjukkan tanda krisis\n",
    "└── 2. TIDAK KRISIS/    # Gambar ekspresi wajah yang tidak menunjukkan tanda krisis\n",
    "```\n",
    "\n",
    "### 📈 Distribusi Data\n",
    "\n",
    "| Kategori         | Jumlah Gambar | Persentase |\n",
    "| ---------------- | ------------- | ---------- |\n",
    "| **Krisis**       | 464           | 22.1%      |\n",
    "| **Tidak Krisis** | 1,636         | 77.9%      |\n",
    "| **Total**        | 2,100         | 100%       |\n",
    "\n",
    "#### Visualisasi Distribusi Kelas\n",
    "\n",
    "```\n",
    "Tidak Krisis: ████████████████████████████████████████████████████████████████████████████████ 77.9%\n",
    "Krisis:       ████████████████████████                                                         22.1%\n",
    "```\n",
    "\n",
    "### 🔧 Karakteristik Teknis\n",
    "\n",
    "#### Spesifikasi Gambar\n",
    "\n",
    "- **Resolusi**: 48x48 piksel\n",
    "- **Format**: JPEG (.jpg)\n",
    "- **Mode Warna**: Grayscale/RGB (perlu konfirmasi lebih lanjut)\n",
    "- **Ukuran File**: 1.1 - 1.7 KB per gambar (rata-rata ~1.4 KB)\n",
    "\n",
    "#### Penamaan File\n",
    "\n",
    "- **Format Penamaan**: Numerik (contoh: 10164.jpg, 10165.jpg)\n",
    "- **Pola**: Tidak ada pola khusus yang teridentifikasi dalam penamaan\n",
    "- **Range**: Angka bervariasi dari ratusan hingga puluhan ribu\n",
    "\n",
    "### 📊 Analisis Distribusi Kelas\n",
    "\n",
    "#### Ketidakseimbangan Dataset (Class Imbalance)\n",
    "\n",
    "Dataset menunjukkan **ketidakseimbangan kelas yang signifikan**:\n",
    "\n",
    "- Kelas mayoritas: \"Tidak Krisis\" (77.9%)\n",
    "- Kelas minoritas: \"Krisis\" (22.1%)\n",
    "- **Rasio**: ~3.5:1 (Tidak Krisis : Krisis)\n",
    "\n",
    "#### Implikasi Ketidakseimbangan\n",
    "\n",
    "1. **Model Bias**: Model cenderung memprediksi kelas mayoritas\n",
    "2. **Evaluasi Metrik**: Akurasi saja tidak cukup, perlu precision, recall, F1-score\n",
    "3. **Strategi Penanganan**: Diperlukan teknik seperti:\n",
    "   - Oversampling (SMOTE)\n",
    "   - Undersampling\n",
    "   - Class weighting\n",
    "   - Ensemble methods\n",
    "\n",
    "### 🎯 Karakteristik Domain\n",
    "\n",
    "#### Konteks Aplikasi\n",
    "\n",
    "- **Domain**: Kesehatan Mental / Psikologi\n",
    "- **Tujuan**: Deteksi dini krisis bunuh diri melalui ekspresi wajah\n",
    "- **Sensitivitas**: Dataset sangat sensitif dan memerlukan penanganan etis\n",
    "\n",
    "#### Tantangan Khusus\n",
    "\n",
    "1. **Subjektivitas**: Interpretasi ekspresi wajah dapat bervariasi\n",
    "2. **Privasi**: Data sangat sensitif dan personal\n",
    "3. **Etika**: Penggunaan harus mempertimbangkan aspek etis dan consent\n",
    "4. **Akurasi Tinggi**: False negative dapat berakibat fatal\n"
   ]
  },
  {
   "cell_type": "markdown",
   "id": "245ca3ef",
   "metadata": {},
   "source": [
    "## **Data Preparation**"
   ]
  },
  {
   "cell_type": "markdown",
   "id": "4fde7494",
   "metadata": {},
   "source": [
    "### Download Data dari Google Drive"
   ]
  },
  {
   "cell_type": "code",
   "execution_count": 12,
   "id": "5f0c1c7b",
   "metadata": {},
   "outputs": [
    {
     "name": "stdout",
     "output_type": "stream",
     "text": [
      "[SKIP] Folder sudah ada, tidak perlu download ulang.\n",
      "[SELESAI] Dataset tersedia di folder: data\n"
     ]
    }
   ],
   "source": [
    "import gdown\n",
    "import zipfile\n",
    "import os\n",
    "\n",
    "# ID file dari link Google Drive\n",
    "file_id = \"14f2FMGfZ88qznJi46wPgnEnHAGphhIuo\"\n",
    "url = f\"https://drive.google.com/uc?id={file_id}\"\n",
    "\n",
    "output_zip = \"data/face.zip\"\n",
    "extract_dir = \"data\"\n",
    "\n",
    "# Pastikan folder data ada\n",
    "os.makedirs(\"data\", exist_ok=True)\n",
    "\n",
    "# Selalu cek apakah sudah ada hasil ekstrak\n",
    "if not os.path.exists(extract_dir+\"/1. DATA EKSPRESI WAJAH KRISI BUNUH DIRI\"):\n",
    "    print(\"[INFO] Mengunduh file zip...\")\n",
    "    gdown.download(url, output_zip, quiet=False)\n",
    "\n",
    "    print(\"[INFO] Mengekstrak file...\")\n",
    "    with zipfile.ZipFile(output_zip, 'r') as zip_ref:\n",
    "        zip_ref.extractall(extract_dir)\n",
    "\n",
    "    os.remove(output_zip)\n",
    "    print(\"[INFO] File zip dihapus.\")\n",
    "else:\n",
    "    print(\"[SKIP] Folder sudah ada, tidak perlu download ulang.\")\n",
    "\n",
    "print(\"[SELESAI] Dataset tersedia di folder:\", extract_dir)"
   ]
  },
  {
   "cell_type": "markdown",
   "id": "dcb90735",
   "metadata": {},
   "source": [
    "### Mengatur Konfigurasi"
   ]
  },
  {
   "cell_type": "code",
   "execution_count": 1,
   "id": "78a87250",
   "metadata": {},
   "outputs": [],
   "source": [
    "import os\n",
    "import random\n",
    "from pathlib import Path\n",
    "from collections import Counter\n",
    "import numpy as np\n",
    "import matplotlib.pyplot as plt\n",
    "from tqdm import tqdm\n",
    "\n",
    "import torch\n",
    "import torch.nn as nn\n",
    "import torch.nn.functional as F\n",
    "from torch.utils.data import DataLoader, random_split, Subset, WeightedRandomSampler\n",
    "from torchvision import transforms, models, datasets\n",
    "\n",
    "from sklearn.metrics import (\n",
    "    roc_auc_score,\n",
    "    confusion_matrix,\n",
    "    classification_report,\n",
    "    roc_curve,\n",
    ")\n",
    "\n",
    "import warnings\n",
    "warnings.filterwarnings(\"ignore\")"
   ]
  },
  {
   "cell_type": "code",
   "execution_count": 2,
   "id": "36097827",
   "metadata": {},
   "outputs": [
    {
     "name": "stdout",
     "output_type": "stream",
     "text": [
      "[INFO] Using device: privateuseone:0\n"
     ]
    }
   ],
   "source": [
    "import torch_directml\n",
    "device = torch_directml.device()\n",
    "print(\"[INFO] Using device:\", device)"
   ]
  },
  {
   "cell_type": "code",
   "execution_count": null,
   "id": "dbe9f9eb",
   "metadata": {},
   "outputs": [],
   "source": [
    "SEED = 2025\n",
    "BATCH_SIZE = 32\n",
    "IMG_SIZE = 48\n",
    "NUM_EPOCHS = 30\n",
    "LEARNING_RATE = 1e-3\n",
    "DATA_ROOT = \"data/1. DATA EKSPRESI WAJAH KRISI BUNUH DIRI\"\n",
    "MODEL_PATH = \"models/face-expression-directml.pt\"\n",
    "PATIENCE = 5\n",
    "NUM_WORKERS = 0\n",
    "\n",
    "# reproducible\n",
    "def seed_everything(seed=SEED):\n",
    "    random.seed(seed)\n",
    "    np.random.seed(seed)\n",
    "    torch.manual_seed(seed)\n",
    "    torch.cuda.manual_seed_all(seed)\n",
    "\n",
    "seed_everything()"
   ]
  },
  {
   "cell_type": "markdown",
   "id": "14dd0738",
   "metadata": {},
   "source": [
    "### Data Transformation & Augmentation"
   ]
  },
  {
   "cell_type": "code",
   "execution_count": 4,
   "id": "45ba610f",
   "metadata": {},
   "outputs": [],
   "source": [
    "class To3Channels:\n",
    "    def __call__(self, x):\n",
    "        return x.repeat(3, 1, 1) if x.shape[0] == 1 else x"
   ]
  },
  {
   "cell_type": "code",
   "execution_count": 5,
   "id": "e35863aa",
   "metadata": {},
   "outputs": [],
   "source": [
    "def build_transforms(img_size=IMG_SIZE):\n",
    "    train_tf = transforms.Compose([\n",
    "        transforms.Resize((img_size, img_size)),\n",
    "        transforms.RandomHorizontalFlip(),\n",
    "        transforms.RandomRotation(10),\n",
    "        transforms.ColorJitter(brightness=0.1, contrast=0.1),\n",
    "        transforms.ToTensor(),\n",
    "        To3Channels(),\n",
    "        transforms.Normalize(mean=[0.485, 0.456, 0.406],\n",
    "                             std=[0.229, 0.224, 0.225]),\n",
    "    ])\n",
    "    val_tf = transforms.Compose([\n",
    "        transforms.Resize((img_size, img_size)),\n",
    "        transforms.ToTensor(),\n",
    "        To3Channels(),\n",
    "        transforms.Normalize(mean=[0.485, 0.456, 0.406],\n",
    "                             std=[0.229, 0.224, 0.225]),\n",
    "    ])\n",
    "    return train_tf, val_tf\n",
    "\n",
    "train_tf, val_tf = build_transforms()"
   ]
  },
  {
   "cell_type": "markdown",
   "id": "4140d042",
   "metadata": {},
   "source": [
    "### Data Loading"
   ]
  },
  {
   "cell_type": "code",
   "execution_count": 6,
   "id": "33c1bc0e",
   "metadata": {},
   "outputs": [
    {
     "name": "stdout",
     "output_type": "stream",
     "text": [
      "[INFO] Classes: ['1. KRISIS', '2. TIDAK KRISIS'] Num classes: 2\n",
      "[INFO] Total images: 2100\n"
     ]
    }
   ],
   "source": [
    "# Load dataset using ImageFolder - expects two subfolders (e.g. \"1. KRISIS\", \"2. TIDAK KRISIS\")\n",
    "if not os.path.exists(DATA_ROOT):\n",
    "    raise FileNotFoundError(f\"Data root not found: {DATA_ROOT}\")\n",
    "\n",
    "full_dataset = datasets.ImageFolder(root=DATA_ROOT, transform=train_tf)\n",
    "class_names = full_dataset.classes\n",
    "num_classes = len(class_names)\n",
    "print(\"[INFO] Classes:\", class_names, \"Num classes:\", num_classes)\n",
    "print(\"[INFO] Total images:\", len(full_dataset))"
   ]
  },
  {
   "cell_type": "markdown",
   "id": "29808066",
   "metadata": {},
   "source": [
    "#### Data Splitting"
   ]
  },
  {
   "cell_type": "code",
   "execution_count": null,
   "id": "6ddb687e",
   "metadata": {},
   "outputs": [],
   "source": [
    "# -------------------------\n",
    "# Split dataset 80:10:10\n",
    "# -------------------------\n",
    "def split_dataset(dataset, seed=SEED):\n",
    "    n = len(dataset)\n",
    "    n_train = int(0.8 * n)\n",
    "    n_val = int(0.1 * n)\n",
    "    n_test = n - n_train - n_val\n",
    "    lengths = [n_train, n_val, n_test]\n",
    "    train_ds, val_ds, test_ds = random_split(\n",
    "        dataset, lengths, generator=torch.Generator().manual_seed(seed)\n",
    "    )\n",
    "    # set transform untuk masing-masing subset\n",
    "    train_ds.dataset.transform = train_tf\n",
    "    val_ds.dataset.transform = val_tf\n",
    "    test_ds.dataset.transform = val_tf\n",
    "    return train_ds, val_ds, test_ds"
   ]
  },
  {
   "cell_type": "code",
   "execution_count": 8,
   "id": "adde4b94",
   "metadata": {},
   "outputs": [
    {
     "name": "stdout",
     "output_type": "stream",
     "text": [
      "[INFO] Split sizes -> train: 1680 val: 210 test: 210\n"
     ]
    }
   ],
   "source": [
    "# panggil split\n",
    "train_ds, val_ds, test_ds = split_dataset(full_dataset)\n",
    "print(\"[INFO] Split sizes -> train:\", len(train_ds), \"val:\", len(val_ds), \"test:\", len(test_ds))"
   ]
  },
  {
   "cell_type": "markdown",
   "id": "4467ff1d",
   "metadata": {},
   "source": [
    "#### Handling Class Imbalance"
   ]
  },
  {
   "cell_type": "code",
   "execution_count": 9,
   "id": "aa147f18",
   "metadata": {},
   "outputs": [
    {
     "name": "stdout",
     "output_type": "stream",
     "text": [
      "[INFO] Train class distribution: Counter({1: 1304, 0: 376})\n"
     ]
    }
   ],
   "source": [
    "# Ambil label sesuai subset training\n",
    "train_targets = [full_dataset.samples[i][1] for i in train_ds.indices]\n",
    "counter = Counter(train_targets)\n",
    "print(\"[INFO] Train class distribution:\", counter)"
   ]
  },
  {
   "cell_type": "code",
   "execution_count": 10,
   "id": "3e226d28",
   "metadata": {},
   "outputs": [
    {
     "name": "stdout",
     "output_type": "stream",
     "text": [
      "[INFO] Class counts: Counter({1: 1636, 0: 464})\n"
     ]
    }
   ],
   "source": [
    "# Calculate class distribution & class weights (for loss)\n",
    "targets = [y for _, y in full_dataset.samples]\n",
    "counter = Counter(targets)\n",
    "print(\"[INFO] Class counts:\", counter)"
   ]
  },
  {
   "cell_type": "code",
   "execution_count": 11,
   "id": "62bf438c",
   "metadata": {},
   "outputs": [
    {
     "name": "stdout",
     "output_type": "stream",
     "text": [
      "[INFO] Class weights: tensor([2.2629, 0.6418], device='privateuseone:0')\n"
     ]
    }
   ],
   "source": [
    "# Hitung class weights untuk CrossEntropyLoss\n",
    "total = sum(counter.values())\n",
    "class_weights = []\n",
    "for i in range(len(counter)):\n",
    "    class_weights.append(total / (len(counter) * counter[i]))\n",
    "class_weights = torch.tensor(class_weights, dtype=torch.float).to(device)\n",
    "print(\"[INFO] Class weights:\", class_weights)"
   ]
  },
  {
   "cell_type": "code",
   "execution_count": 12,
   "id": "01af94db",
   "metadata": {},
   "outputs": [],
   "source": [
    "# Buat sample_weights sesuai subset training\n",
    "weights = 1. / torch.tensor([counter[i] for i in range(len(counter))], dtype=torch.float)\n",
    "sample_weights = [weights[label] for label in train_targets]\n",
    "\n",
    "sampler = WeightedRandomSampler(\n",
    "    weights=sample_weights,\n",
    "    num_samples=len(sample_weights),\n",
    "    replacement=True\n",
    ")"
   ]
  },
  {
   "cell_type": "code",
   "execution_count": 13,
   "id": "853dcd9e",
   "metadata": {},
   "outputs": [
    {
     "name": "stdout",
     "output_type": "stream",
     "text": [
      "[INFO] DataLoaders updated with WeightedRandomSampler\n"
     ]
    }
   ],
   "source": [
    "# DataLoader dengan sampler agar batch lebih seimbang\n",
    "train_loader = DataLoader(train_ds, batch_size=BATCH_SIZE, sampler=sampler, num_workers=0)\n",
    "val_loader   = DataLoader(val_ds, batch_size=BATCH_SIZE, shuffle=False, num_workers=0)\n",
    "test_loader  = DataLoader(test_ds, batch_size=BATCH_SIZE, shuffle=False, num_workers=0)\n",
    "\n",
    "print(\"[INFO] DataLoaders updated with WeightedRandomSampler\")"
   ]
  },
  {
   "cell_type": "markdown",
   "id": "6e3afe18",
   "metadata": {},
   "source": [
    "## **Modelling**"
   ]
  },
  {
   "cell_type": "code",
   "execution_count": 14,
   "id": "7953cc10",
   "metadata": {},
   "outputs": [
    {
     "name": "stdout",
     "output_type": "stream",
     "text": [
      "[INFO] Model created.\n"
     ]
    }
   ],
   "source": [
    "# Build a compact but effective CNN using a pretrained backbone (MobileNetV2) and a small classification head.\n",
    "def get_model(num_classes, variant=\"large\"):\n",
    "    if variant == \"large\":\n",
    "        model = models.mobilenet_v3_large(pretrained=True)\n",
    "        in_feats = model.classifier[0].in_features   # 960\n",
    "    else:\n",
    "        model = models.mobilenet_v3_small(pretrained=True)\n",
    "        in_feats = model.classifier[0].in_features   # 576\n",
    "\n",
    "    model.classifier = nn.Sequential(\n",
    "        nn.Linear(in_feats, 128),\n",
    "        nn.Hardswish(),\n",
    "        nn.Dropout(p=0.3),\n",
    "        nn.Linear(128, num_classes)\n",
    "    )\n",
    "    return model\n",
    "\n",
    "model = get_model(num_classes, variant=\"large\").to(device)\n",
    "print(\"[INFO] Model created.\")"
   ]
  },
  {
   "cell_type": "code",
   "execution_count": 15,
   "id": "dee1c913",
   "metadata": {},
   "outputs": [],
   "source": [
    "optimizer = torch.optim.AdamW(model.parameters(), lr=LEARNING_RATE, weight_decay=1e-5)\n",
    "criterion = nn.CrossEntropyLoss(weight=class_weights)\n",
    "scheduler = torch.optim.lr_scheduler.ReduceLROnPlateau(optimizer, mode='min', patience=1, factor=0.1618, verbose=True)"
   ]
  },
  {
   "cell_type": "code",
   "execution_count": 16,
   "id": "1c579217",
   "metadata": {},
   "outputs": [],
   "source": [
    "# Simple EarlyStopping + ModelCheckpoint\n",
    "class EarlyStopping:\n",
    "    def __init__(self, patience=PATIENCE, verbose=True, path=MODEL_PATH):\n",
    "        self.patience = patience\n",
    "        self.counter = 0\n",
    "        self.best_loss = None\n",
    "        self.early_stop = False\n",
    "        self.verbose = verbose\n",
    "        self.path = path\n",
    "\n",
    "    def step(self, val_loss, model):\n",
    "        if self.best_loss is None or val_loss < self.best_loss - 1e-4:\n",
    "            self.best_loss = val_loss\n",
    "            self.counter = 0\n",
    "            # save model\n",
    "            torch.save(model.state_dict(), self.path)\n",
    "            if self.verbose:\n",
    "                print(f\"[CHECKPOINT] Saved new best model (val_loss={val_loss:.4f}) -> {self.path}\")\n",
    "        else:\n",
    "            self.counter += 1\n",
    "            if self.verbose:\n",
    "                print(f\"[EARLYSTOP] No improvement ({self.counter}/{self.patience})\")\n",
    "            if self.counter >= self.patience:\n",
    "                self.early_stop = True"
   ]
  },
  {
   "cell_type": "code",
   "execution_count": 17,
   "id": "c63ef8c3",
   "metadata": {},
   "outputs": [],
   "source": [
    "# -------------------------\n",
    "# Training / Validation loops\n",
    "# -------------------------\n",
    "def train_one_epoch(model, loader, optimizer, criterion):\n",
    "    model.train()\n",
    "    running_loss = 0.0\n",
    "    correct = 0\n",
    "    total = 0\n",
    "    for imgs, labels in loader:\n",
    "        imgs = imgs.to(device)\n",
    "        labels = labels.to(device)\n",
    "        optimizer.zero_grad()\n",
    "        outputs = model(imgs)\n",
    "        loss = criterion(outputs, labels)\n",
    "        loss.backward()\n",
    "        optimizer.step()\n",
    "        running_loss += loss.item() * imgs.size(0)\n",
    "        preds = outputs.argmax(dim=1)\n",
    "        correct += (preds == labels).sum().item()\n",
    "        total += imgs.size(0)\n",
    "    avg_loss = running_loss / total\n",
    "    acc = correct / total\n",
    "    return avg_loss, acc\n",
    "\n",
    "@torch.no_grad()\n",
    "def validate(model, loader, criterion):\n",
    "    model.eval()\n",
    "    running_loss = 0.0\n",
    "    correct = 0\n",
    "    total = 0\n",
    "    all_probs = []\n",
    "    all_labels = []\n",
    "    for imgs, labels in loader:\n",
    "        imgs = imgs.to(device)\n",
    "        labels = labels.to(device)\n",
    "        outputs = model(imgs)\n",
    "        loss = criterion(outputs, labels)\n",
    "        running_loss += loss.item() * imgs.size(0)\n",
    "        probs = F.softmax(outputs, dim=1)\n",
    "        all_probs.append(probs.cpu().numpy())\n",
    "        all_labels.append(labels.cpu().numpy())\n",
    "        preds = outputs.argmax(dim=1)\n",
    "        correct += (preds == labels).sum().item()\n",
    "        total += imgs.size(0)\n",
    "    avg_loss = running_loss / total\n",
    "    acc = correct / total\n",
    "    all_probs = np.vstack(all_probs)\n",
    "    all_labels = np.concatenate(all_labels)\n",
    "    return avg_loss, acc, all_probs, all_labels"
   ]
  },
  {
   "cell_type": "code",
   "execution_count": 18,
   "id": "9e4c5985",
   "metadata": {},
   "outputs": [],
   "source": [
    "# -------------------------\n",
    "# Training Loop\n",
    "# -------------------------\n",
    "def fit(model, train_loader, val_loader, optimizer, criterion, scheduler, epochs=NUM_EPOCHS):\n",
    "    history = {\"train_loss\": [], \"val_loss\": [], \"train_acc\": [], \"val_acc\": []}\n",
    "    stopper = EarlyStopping(patience=PATIENCE, verbose=True, path=MODEL_PATH)\n",
    "    for epoch in range(1, epochs + 1):\n",
    "        print(f\"\\nEpoch {epoch}/{epochs}\")\n",
    "        train_loss, train_acc = train_one_epoch(model, train_loader, optimizer, criterion)\n",
    "        val_loss, val_acc, val_probs, val_labels = validate(model, val_loader, criterion)\n",
    "        scheduler.step(val_loss)\n",
    "        history[\"train_loss\"].append(train_loss)\n",
    "        history[\"val_loss\"].append(val_loss)\n",
    "        history[\"train_acc\"].append(train_acc)\n",
    "        history[\"val_acc\"].append(val_acc)\n",
    "        print(f\"train_loss: {train_loss:.4f} | train_acc: {train_acc:.4f}\")\n",
    "        print(f\"val_loss:   {val_loss:.4f} | val_acc:   {val_acc:.4f}\")\n",
    "        # early stopping + checkpoint\n",
    "        stopper.step(val_loss, model)\n",
    "        if stopper.early_stop:\n",
    "            print(\"[INFO] Early stopping triggered.\")\n",
    "            break\n",
    "    # load best model\n",
    "    if os.path.exists(MODEL_PATH):\n",
    "        model.load_state_dict(torch.load(MODEL_PATH, map_location=device))\n",
    "    return model, history"
   ]
  },
  {
   "cell_type": "code",
   "execution_count": 19,
   "id": "fd1c0aa7",
   "metadata": {},
   "outputs": [
    {
     "name": "stdout",
     "output_type": "stream",
     "text": [
      "\n",
      "Epoch 1/30\n",
      "train_loss: 0.4451 | train_acc: 0.6250\n",
      "val_loss:   0.6228 | val_acc:   0.5857\n",
      "[CHECKPOINT] Saved new best model (val_loss=0.6228) -> models/best_model.pt\n",
      "\n",
      "Epoch 2/30\n",
      "train_loss: 0.2842 | train_acc: 0.8077\n",
      "val_loss:   0.7128 | val_acc:   0.6429\n",
      "[EARLYSTOP] No improvement (1/5)\n",
      "\n",
      "Epoch 3/30\n",
      "train_loss: 0.2410 | train_acc: 0.8560\n",
      "val_loss:   0.9880 | val_acc:   0.5952\n",
      "[EARLYSTOP] No improvement (2/5)\n",
      "\n",
      "Epoch 4/30\n",
      "train_loss: 0.1527 | train_acc: 0.9173\n",
      "val_loss:   0.9976 | val_acc:   0.6905\n",
      "[EARLYSTOP] No improvement (3/5)\n",
      "\n",
      "Epoch 5/30\n",
      "train_loss: 0.0771 | train_acc: 0.9536\n",
      "val_loss:   1.0882 | val_acc:   0.7762\n",
      "[EARLYSTOP] No improvement (4/5)\n",
      "\n",
      "Epoch 6/30\n",
      "train_loss: 0.0671 | train_acc: 0.9655\n",
      "val_loss:   1.0665 | val_acc:   0.7952\n",
      "[EARLYSTOP] No improvement (5/5)\n",
      "[INFO] Early stopping triggered.\n"
     ]
    }
   ],
   "source": [
    "trained_model, history = fit(model, train_loader, val_loader,\n",
    "                                 optimizer, criterion, scheduler, epochs=NUM_EPOCHS)"
   ]
  },
  {
   "cell_type": "markdown",
   "id": "a5d0537c",
   "metadata": {},
   "source": [
    "## **Evaluation**"
   ]
  },
  {
   "cell_type": "markdown",
   "id": "14187952",
   "metadata": {},
   "source": [
    "### Hasil Training"
   ]
  },
  {
   "cell_type": "code",
   "execution_count": 20,
   "id": "b739ed57",
   "metadata": {},
   "outputs": [],
   "source": [
    "   # Evaluation on test set\n",
    "# -------------------------\n",
    "@torch.no_grad()\n",
    "def predict_on_loader(model, loader):\n",
    "    model.eval()\n",
    "    ys = []\n",
    "    probs = []\n",
    "    for imgs, labels in loader:\n",
    "        imgs = imgs.to(device)\n",
    "        outputs = model(imgs)\n",
    "        p = F.softmax(outputs, dim=1).cpu().numpy()\n",
    "        probs.append(p)\n",
    "        ys.append(labels.numpy())\n",
    "    probs = np.vstack(probs)\n",
    "    ys = np.concatenate(ys)\n",
    "    preds = probs.argmax(axis=1)\n",
    "    return ys, preds, probs\n",
    "\n",
    "y_true, y_pred, y_prob = predict_on_loader(trained_model, test_loader)"
   ]
  },
  {
   "cell_type": "code",
   "execution_count": 21,
   "id": "faececfe",
   "metadata": {},
   "outputs": [
    {
     "data": {
      "image/png": "[encoded data removed]",
      "text/plain": [
       "<Figure size 1000x400 with 2 Axes>"
      ]
     },
     "metadata": {},
     "output_type": "display_data"
    }
   ],
   "source": [
    " # -------------------------\n",
    "# Plots: training curves\n",
    "# -------------------------\n",
    "def plot_training(history, out=\"training_plot.png\"):\n",
    "    epochs = range(1, len(history[\"train_loss\"]) + 1)\n",
    "    plt.figure(figsize=(10,4))\n",
    "    plt.subplot(1,2,1)\n",
    "    plt.plot(epochs, history[\"train_loss\"], label=\"train_loss\")\n",
    "    plt.plot(epochs, history[\"val_loss\"], label=\"val_loss\")\n",
    "    plt.xlabel(\"Epoch\")\n",
    "    plt.ylabel(\"Loss\")\n",
    "    plt.legend()\n",
    "    plt.title(\"Loss curve\")\n",
    "    plt.subplot(1,2,2)\n",
    "    plt.plot(epochs, history[\"train_acc\"], label=\"train_acc\")\n",
    "    plt.plot(epochs, history[\"val_acc\"], label=\"val_acc\")\n",
    "    plt.xlabel(\"Epoch\")\n",
    "    plt.ylabel(\"Accuracy\")\n",
    "    plt.legend()\n",
    "    plt.title(\"Accuracy curve\")\n",
    "    plt.tight_layout()\n",
    "\n",
    "plot_training(history)"
   ]
  },
  {
   "cell_type": "markdown",
   "id": "aca295b3",
   "metadata": {},
   "source": [
    "### ROC-AUC Score"
   ]
  },
  {
   "cell_type": "code",
   "execution_count": 22,
   "id": "7e3e5100",
   "metadata": {},
   "outputs": [
    {
     "name": "stdout",
     "output_type": "stream",
     "text": [
      "[INFO] ROC AUC (binary): 0.6686 saved to roc_auc.png\n"
     ]
    },
    {
     "data": {
      "image/png": "[encoded data removed]",
      "text/plain": [
       "<Figure size 640x480 with 1 Axes>"
      ]
     },
     "metadata": {},
     "output_type": "display_data"
    }
   ],
   "source": [
    " # -------------------------\n",
    "# ROC AUC (binary or multiclass handling)\n",
    "# -------------------------\n",
    "def compute_roc_auc(y_true, y_prob):\n",
    "    if num_classes == 2:\n",
    "        # take prob of positive class (assume class 1 is positive)\n",
    "        pos_prob = y_prob[:, 1]\n",
    "        auc = roc_auc_score(y_true, pos_prob)\n",
    "        fpr, tpr, _ = roc_curve(y_true, pos_prob)\n",
    "        plt.figure()\n",
    "        plt.plot(fpr, tpr)\n",
    "        plt.plot([0,1],[0,1], linestyle='--')\n",
    "        plt.xlabel(\"FPR\")\n",
    "        plt.ylabel(\"TPR\")\n",
    "        plt.title(f\"ROC curve (AUC = {auc:.4f})\")\n",
    "        print(f\"[INFO] ROC AUC (binary): {auc:.4f} saved to roc_auc.png\")\n",
    "        return auc\n",
    "    else:\n",
    "        # multiclass: macro ROC AUC\n",
    "        try:\n",
    "            auc = roc_auc_score(y_true, y_prob, multi_class='ovr', average='macro')\n",
    "            print(f\"[INFO] ROC AUC (multiclass, macro): {auc:.4f}\")\n",
    "            return auc\n",
    "        except Exception as e:\n",
    "            print(\"[WARN] ROC AUC could not be computed:\", e)\n",
    "            return None\n",
    "        \n",
    "auc = compute_roc_auc(y_true, y_prob)"
   ]
  },
  {
   "cell_type": "markdown",
   "id": "05174df2",
   "metadata": {},
   "source": [
    "### Confusion Matrix"
   ]
  },
  {
   "cell_type": "code",
   "execution_count": 23,
   "id": "1843e02a",
   "metadata": {},
   "outputs": [
    {
     "name": "stdout",
     "output_type": "stream",
     "text": [
      "[DONE] Training and evaluation complete. Best model saved to: models/best_model.pt\n"
     ]
    },
    {
     "data": {
      "image/png": "[encoded data removed]",
      "text/plain": [
       "<Figure size 600x600 with 2 Axes>"
      ]
     },
     "metadata": {},
     "output_type": "display_data"
    }
   ],
   "source": [
    "def plot_cm(cm, classes):\n",
    "    plt.figure(figsize=(6,6))\n",
    "    plt.imshow(cm, interpolation='nearest', cmap=plt.cm.Blues)\n",
    "    plt.title(\"Confusion matrix\")\n",
    "    plt.colorbar()\n",
    "    tick_marks = np.arange(len(classes))\n",
    "    plt.xticks(tick_marks, classes, rotation=45)\n",
    "    plt.yticks(tick_marks, classes)\n",
    "    thresh = cm.max() / 2.\n",
    "    for i, j in np.ndindex(cm.shape):\n",
    "        plt.text(j, i, format(cm[i, j], 'd'),\n",
    "                 horizontalalignment=\"center\",\n",
    "                 color=\"white\" if cm[i, j] > thresh else \"black\")\n",
    "    plt.ylabel('True label')\n",
    "    plt.xlabel('Predicted label')\n",
    "    plt.tight_layout()\n",
    "\n",
    "cm = confusion_matrix(y_true, y_pred)\n",
    "plot_cm(cm, class_names)\n",
    "print(\"[DONE] Training and evaluation complete. Best model saved to:\", MODEL_PATH)"
   ]
  },
  {
   "cell_type": "markdown",
   "id": "bf3ec853",
   "metadata": {},
   "source": [
    "### Classification Report"
   ]
  },
  {
   "cell_type": "code",
   "execution_count": 24,
   "id": "4aea90d7",
   "metadata": {},
   "outputs": [
    {
     "name": "stdout",
     "output_type": "stream",
     "text": [
      "[INFO] Classification report:\n",
      "                  precision    recall  f1-score   support\n",
      "\n",
      "      1. KRISIS     0.2990    0.6744    0.4143        43\n",
      "2. TIDAK KRISIS     0.8761    0.5928    0.7071       167\n",
      "\n",
      "       accuracy                         0.6095       210\n",
      "      macro avg     0.5875    0.6336    0.5607       210\n",
      "   weighted avg     0.7579    0.6095    0.6472       210\n",
      "\n"
     ]
    }
   ],
   "source": [
    "print(\"[INFO] Classification report:\\n\", classification_report(y_true, y_pred, target_names=class_names, digits=4))"
   ]
  },
  {
   "cell_type": "markdown",
   "id": "b33f39fb",
   "metadata": {},
   "source": [
    "## **Convert Model**"
   ]
  },
  {
   "cell_type": "code",
   "execution_count": 1,
   "id": "2a9e2db8",
   "metadata": {},
   "outputs": [
    {
     "name": "stdout",
     "output_type": "stream",
     "text": [
      "[INFO] Konversi selesai → gunakan 'models/face-expression.pt'\n"
     ]
    }
   ],
   "source": [
    "import torch\n",
    "import torch_directml\n",
    "import torch.nn as nn\n",
    "import torchvision.models as models\n",
    "\n",
    "def get_model(num_classes, variant=\"large\"):\n",
    "    if variant == \"large\":\n",
    "        model = models.mobilenet_v3_large(weights=\"IMAGENET1K_V1\")\n",
    "        in_feats = model.classifier[0].in_features\n",
    "    else:\n",
    "        model = models.mobilenet_v3_small(weights=\"IMAGENET1K_V1\")\n",
    "        in_feats = model.classifier[0].in_features\n",
    "\n",
    "    model.classifier = nn.Sequential(\n",
    "        nn.Linear(in_feats, 128),\n",
    "        nn.Hardswish(),\n",
    "        nn.Dropout(p=0.3),\n",
    "        nn.Linear(128, num_classes)\n",
    "    )\n",
    "    return model\n",
    "\n",
    "device = torch.device(\"cpu\")\n",
    "model = get_model(num_classes=2, variant=\"large\").to(device)\n",
    "\n",
    "# 🔥 load lama → pakai weights_only=False\n",
    "checkpoint = torch.load(\"models/face-expression-directml.pt\", map_location=device, weights_only=False)\n",
    "\n",
    "# kalau ternyata checkpoint sudah OrderedDict\n",
    "if isinstance(checkpoint, dict):\n",
    "    try:\n",
    "        model.load_state_dict(checkpoint)\n",
    "    except RuntimeError:\n",
    "        # mungkin tersimpan dict dengan key lain, misalnya {\"model\": state_dict}\n",
    "        model.load_state_dict(checkpoint[\"model\"])\n",
    "else:\n",
    "    # kalau ternyata full nn.Module\n",
    "    model.load_state_dict(checkpoint.state_dict())\n",
    "\n",
    "# ✅ simpan ulang jadi state_dict portable\n",
    "torch.save(model.state_dict(), \"models/face-expression.pt\")\n",
    "print(\"[INFO] Konversi selesai → gunakan 'models/face-expression.pt'\")"
   ]
  },
  {
   "cell_type": "markdown",
   "id": "3d96fcab",
   "metadata": {},
   "source": [
    "## **Load Model**"
   ]
  },
  {
   "cell_type": "markdown",
   "id": "a41fda45",
   "metadata": {},
   "source": [
    "### Using Direct ML"
   ]
  },
  {
   "cell_type": "code",
   "execution_count": 2,
   "id": "6635a408",
   "metadata": {},
   "outputs": [
    {
     "name": "stderr",
     "output_type": "stream",
     "text": [
      "c:\\Users\\harry\\anaconda3\\envs\\torch-directml\\lib\\site-packages\\torchvision\\models\\_utils.py:208: UserWarning: The parameter 'pretrained' is deprecated since 0.13 and may be removed in the future, please use 'weights' instead.\n",
      "  warnings.warn(\n",
      "c:\\Users\\harry\\anaconda3\\envs\\torch-directml\\lib\\site-packages\\torchvision\\models\\_utils.py:223: UserWarning: Arguments other than a weight enum or `None` for 'weights' are deprecated since 0.13 and may be removed in the future. The current behavior is equivalent to passing `weights=MobileNet_V3_Large_Weights.IMAGENET1K_V1`. You can also use `weights=MobileNet_V3_Large_Weights.DEFAULT` to get the most up-to-date weights.\n",
      "  warnings.warn(msg)\n"
     ]
    },
    {
     "name": "stdout",
     "output_type": "stream",
     "text": [
      "[INFO] Model loaded and ready for inference.\n"
     ]
    }
   ],
   "source": [
    "import torch\n",
    "import torch.nn as nn\n",
    "import torchvision.models as models\n",
    "\n",
    "# Sama seperti definisi training\n",
    "def get_model(num_classes, variant=\"large\"):\n",
    "    if variant == \"large\":\n",
    "        model = models.mobilenet_v3_large(pretrained=True)\n",
    "        in_feats = model.classifier[0].in_features   # 960\n",
    "    else:\n",
    "        model = models.mobilenet_v3_small(pretrained=True)\n",
    "        in_feats = model.classifier[0].in_features   # 576\n",
    "\n",
    "    model.classifier = nn.Sequential(\n",
    "        nn.Linear(in_feats, 128),\n",
    "        nn.Hardswish(),\n",
    "        nn.Dropout(p=0.3),\n",
    "        nn.Linear(128, num_classes)\n",
    "    )\n",
    "    return model\n",
    "\n",
    "# ======================\n",
    "# Load kembali model\n",
    "# ======================\n",
    "\n",
    "import torch_directml\n",
    "device = torch_directml.device()\n",
    "\n",
    "num_classes = 2\n",
    "model = get_model(num_classes=num_classes, variant=\"large\").to(device)\n",
    "\n",
    "# Load state_dict\n",
    "model.load_state_dict(torch.load(\"models/face-expression.pt\", map_location=device))\n",
    "\n",
    "model.eval()\n",
    "print(\"[INFO] Model loaded and ready for inference.\")"
   ]
  },
  {
   "cell_type": "markdown",
   "id": "2c8d477a",
   "metadata": {},
   "source": [
    "### Using CUDA or CPU"
   ]
  },
  {
   "cell_type": "code",
   "execution_count": 2,
   "id": "3da7f8e5",
   "metadata": {},
   "outputs": [
    {
     "name": "stderr",
     "output_type": "stream",
     "text": [
      "c:\\Users\\harry\\anaconda3\\envs\\torch-directml\\lib\\site-packages\\torchvision\\models\\_utils.py:208: UserWarning: The parameter 'pretrained' is deprecated since 0.13 and may be removed in the future, please use 'weights' instead.\n",
      "  warnings.warn(\n",
      "c:\\Users\\harry\\anaconda3\\envs\\torch-directml\\lib\\site-packages\\torchvision\\models\\_utils.py:223: UserWarning: Arguments other than a weight enum or `None` for 'weights' are deprecated since 0.13 and may be removed in the future. The current behavior is equivalent to passing `weights=MobileNet_V3_Large_Weights.IMAGENET1K_V1`. You can also use `weights=MobileNet_V3_Large_Weights.DEFAULT` to get the most up-to-date weights.\n",
      "  warnings.warn(msg)\n"
     ]
    },
    {
     "name": "stdout",
     "output_type": "stream",
     "text": [
      "[INFO] Model loaded and ready for inference.\n"
     ]
    }
   ],
   "source": [
    "import torch\n",
    "import torch.nn as nn\n",
    "import torch_directml\n",
    "import torchvision.models as models\n",
    "\n",
    "# Sama seperti definisi training\n",
    "def get_model(num_classes, variant=\"large\"):\n",
    "    if variant == \"large\":\n",
    "        model = models.mobilenet_v3_large(pretrained=True)\n",
    "        in_feats = model.classifier[0].in_features   # 960\n",
    "    else:\n",
    "        model = models.mobilenet_v3_small(pretrained=True)\n",
    "        in_feats = model.classifier[0].in_features   # 576\n",
    "\n",
    "    model.classifier = nn.Sequential(\n",
    "        nn.Linear(in_feats, 128),\n",
    "        nn.Hardswish(),\n",
    "        nn.Dropout(p=0.3),\n",
    "        nn.Linear(128, num_classes)\n",
    "    )\n",
    "    return model\n",
    "\n",
    "# ======================\n",
    "# Load kembali model\n",
    "# ======================\n",
    "\n",
    "device = torch.device(\"cuda\" if torch.cuda.is_available() else \"cpu\")\n",
    "\n",
    "num_classes = 2\n",
    "model = get_model(num_classes=num_classes, variant=\"large\").to(device)\n",
    "\n",
    "# Load state_dict\n",
    "model.load_state_dict(torch.load(\"models/face-expression.pt\", map_location=device))\n",
    "\n",
    "model.eval()\n",
    "print(\"[INFO] Model loaded and ready for inference.\")"
   ]
  },
  {
   "cell_type": "markdown",
   "id": "e373b5af",
   "metadata": {},
   "source": [
    "## **Model Prediction**"
   ]
  },
  {
   "cell_type": "code",
   "execution_count": 1,
   "id": "b19a1aa5",
   "metadata": {},
   "outputs": [
    {
     "name": "stdout",
     "output_type": "stream",
     "text": [
      "[INFO] Model loaded and ready for inference.\n",
      "\n",
      "=== 3 Sample dari kelas: Krisis ===\n",
      "File: 10164.jpg | Prediksi: TIDAK KRISIS | Confidence: 0.5706\n",
      "File: 10165.jpg | Prediksi: KRISIS | Confidence: 0.8737\n",
      "File: 10179.jpg | Prediksi: TIDAK KRISIS | Confidence: 0.5909\n"
     ]
    },
    {
     "data": {
      "image/png": "[encoded data removed]",
      "text/plain": [
       "<Figure size 1200x400 with 3 Axes>"
      ]
     },
     "metadata": {},
     "output_type": "display_data"
    },
    {
     "name": "stdout",
     "output_type": "stream",
     "text": [
      "\n",
      "=== 3 Sample dari kelas: Tidak Krisis ===\n",
      "File: 100.jpg | Prediksi: TIDAK KRISIS | Confidence: 0.6669\n",
      "File: 1000.jpg | Prediksi: TIDAK KRISIS | Confidence: 0.6069\n",
      "File: 10018.jpg | Prediksi: KRISIS | Confidence: 0.6448\n"
     ]
    },
    {
     "data": {
      "image/png": "[encoded data removed]",
      "text/plain": [
       "<Figure size 1200x400 with 3 Axes>"
      ]
     },
     "metadata": {},
     "output_type": "display_data"
    }
   ],
   "source": [
    "import os\n",
    "import torch\n",
    "import torch.nn as nn\n",
    "import torchvision.models as models\n",
    "from torchvision import transforms\n",
    "from PIL import Image\n",
    "import matplotlib.pyplot as plt\n",
    "\n",
    "import torch_directml\n",
    "# device = torch_directml.device()\n",
    "# ======================\n",
    "# 1. Definisi Model\n",
    "# ======================\n",
    "def get_model(num_classes, variant=\"large\"):\n",
    "    if variant == \"large\":\n",
    "        model = models.mobilenet_v3_large(weights=\"IMAGENET1K_V1\")\n",
    "        in_feats = model.classifier[0].in_features\n",
    "    else:\n",
    "        model = models.mobilenet_v3_small(weights=\"IMAGENET1K_V1\")\n",
    "        in_feats = model.classifier[0].in_features\n",
    "\n",
    "    model.classifier = nn.Sequential(\n",
    "        nn.Linear(in_feats, 128),\n",
    "        nn.Hardswish(),\n",
    "        nn.Dropout(p=0.3),\n",
    "        nn.Linear(128, num_classes)\n",
    "    )\n",
    "    return model\n",
    "\n",
    "# ======================\n",
    "# 2. Load Model\n",
    "# ======================\n",
    "device = torch.device(\"cuda\" if torch.cuda.is_available() else \"cpu\")\n",
    "model = get_model(num_classes=2, variant=\"large\").to(device)\n",
    "\n",
    "state_dict = torch.load(\"models/face-expression.pt\", map_location=device)\n",
    "model.load_state_dict(state_dict)\n",
    "model.eval()\n",
    "print(\"[INFO] Model loaded and ready for inference.\")\n",
    "\n",
    "# ======================\n",
    "# 3. Preprocessing (sesuai training)\n",
    "# ======================\n",
    "class To3Channels:\n",
    "    def __call__(self, x):\n",
    "        return x.repeat(3, 1, 1) if x.shape[0] == 1 else x\n",
    "\n",
    "transform = transforms.Compose([\n",
    "    transforms.Resize((48, 48)),\n",
    "    transforms.ToTensor(),\n",
    "    To3Channels(),\n",
    "    transforms.Normalize(mean=[0.485, 0.456, 0.406],\n",
    "                         std=[0.229, 0.224, 0.225]),\n",
    "])\n",
    "\n",
    "labels = [\"KRISIS\", \"TIDAK KRISIS\"]\n",
    "\n",
    "def predict_image(model, img_path, device):\n",
    "    img = Image.open(img_path).convert(\"RGB\")\n",
    "    img_t = transform(img).unsqueeze(0).to(device)\n",
    "\n",
    "    with torch.no_grad():\n",
    "        outputs = model(img_t)\n",
    "        probs = torch.softmax(outputs, dim=1)\n",
    "        pred = torch.argmax(probs, dim=1).item()\n",
    "        conf = probs[0, pred].item()\n",
    "\n",
    "    return labels[pred], conf, img\n",
    "\n",
    "# ======================\n",
    "# 4. Prediksi & Visualisasi\n",
    "# ======================\n",
    "data_dir = \"data/1. DATA EKSPRESI WAJAH KRISI BUNUH DIRI\"\n",
    "class_dirs = {\n",
    "    \"Krisis\": os.path.join(data_dir, \"1. KRISIS\"),\n",
    "    \"Tidak Krisis\": os.path.join(data_dir, \"2. TIDAK KRISIS\")\n",
    "}\n",
    "\n",
    "for class_name, folder in class_dirs.items():\n",
    "    print(f\"\\n=== 3 Sample dari kelas: {class_name} ===\")\n",
    "    img_files = [os.path.join(folder, f) for f in os.listdir(folder) if f.lower().endswith((\".jpg\", \".png\", \".jpeg\"))]\n",
    "    sample_files = img_files[:3]\n",
    "\n",
    "    plt.figure(figsize=(12, 4))\n",
    "    for i, img_path in enumerate(sample_files):\n",
    "        pred, conf, img = predict_image(model, img_path, device)\n",
    "        print(f\"File: {os.path.basename(img_path)} | Prediksi: {pred} | Confidence: {conf:.4f}\")\n",
    "\n",
    "        plt.subplot(1, 3, i+1)\n",
    "        plt.imshow(img)\n",
    "        plt.axis(\"off\")\n",
    "        plt.title(f\"{os.path.basename(img_path)}\\nPred: {pred}\\nConf: {conf:.2f}\")\n",
    "\n",
    "    plt.suptitle(f\"Samples dari kelas: {class_name}\")\n",
    "    plt.tight_layout()\n",
    "    plt.show()\n"
   ]
  }
 ],
 "metadata": {
  "kernelspec": {
   "display_name": "torch-directml",
   "language": "python",
   "name": "python3"
  },
  "language_info": {
   "codemirror_mode": {
    "name": "ipython",
    "version": 3
   },
   "file_extension": ".py",
   "mimetype": "text/x-python",
   "name": "python",
   "nbconvert_exporter": "python",
   "pygments_lexer": "ipython3",
   "version": "3.9.23"
  }
 },
 "nbformat": 4,
 "nbformat_minor": 5
}
